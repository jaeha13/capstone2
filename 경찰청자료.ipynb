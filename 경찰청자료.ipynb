{
 "cells": [
  {
   "cell_type": "code",
   "execution_count": 1,
   "id": "a2f52a0c-158a-4f9a-956b-51701b179dea",
   "metadata": {},
   "outputs": [
    {
     "name": "stderr",
     "output_type": "stream",
     "text": [
      "C:\\Users\\hajae\\anaconda3\\envs\\pydatavenv\\lib\\site-packages\\numpy\\_distributor_init.py:30: UserWarning: loaded more than 1 DLL from .libs:\n",
      "C:\\Users\\hajae\\anaconda3\\envs\\pydatavenv\\lib\\site-packages\\numpy\\.libs\\libopenblas.WCDJNK7YVMPZQ2ME2ZZHJJRJ3JIKNDB7.gfortran-win_amd64.dll\n",
      "C:\\Users\\hajae\\anaconda3\\envs\\pydatavenv\\lib\\site-packages\\numpy\\.libs\\libopenblas.XWYDX2IKJW2NMTWSFYNGFUWKQU3LYTCZ.gfortran-win_amd64.dll\n",
      "  warnings.warn(\"loaded more than 1 DLL from .libs:\"\n"
     ]
    }
   ],
   "source": [
    "import pandas as pd\n",
    "import numpy as np\n",
    "import re\n",
    "import datetime as dt\n",
    "import matplotlib.pyplot as plt\n",
    "from matplotlib import rc, font_manager\n",
    "\n",
    "font_path = './malgun.ttf'\n",
    "font_name = font_manager.FontProperties(fname=font_path).get_name()\n",
    "rc('font', family=font_name)"
   ]
  },
  {
   "cell_type": "code",
   "execution_count": 2,
   "id": "bf046783-1e84-481f-babe-b5749b617353",
   "metadata": {
    "jupyter": {
     "source_hidden": true
    },
    "tags": []
   },
   "outputs": [
    {
     "name": "stdout",
     "output_type": "stream",
     "text": [
      "Requirement already satisfied: openpyxl in c:\\users\\hajae\\anaconda3\\lib\\site-packages (3.0.9)\n",
      "Requirement already satisfied: et-xmlfile in c:\\users\\hajae\\anaconda3\\lib\\site-packages (from openpyxl) (1.1.0)\n"
     ]
    }
   ],
   "source": [
    "!pip install openpyxl"
   ]
  },
  {
   "cell_type": "markdown",
   "id": "ec12756f-bcab-41cb-8a42-f447b8334496",
   "metadata": {
    "tags": []
   },
   "source": [
    "## 데이터 불러오기"
   ]
  },
  {
   "cell_type": "code",
   "execution_count": 2,
   "id": "efce6b49-05ea-4014-8896-ef2bb345da29",
   "metadata": {},
   "outputs": [],
   "source": [
    "exc1 = pd.read_excel('./경찰청/경찰청데이터.xlsx', sheet_name=0)\n",
    "exc2 = pd.read_excel('./경찰청/경찰청데이터.xlsx', sheet_name=1)\n",
    "exc3 = pd.read_excel('./경찰청/경찰청데이터.xlsx', sheet_name=2)\n",
    "exc4 = pd.read_excel('./경찰청/경찰청데이터.xlsx', sheet_name=3)"
   ]
  },
  {
   "cell_type": "code",
   "execution_count": 3,
   "id": "3682769b-0307-4822-9b3f-3e42abe6183e",
   "metadata": {},
   "outputs": [],
   "source": [
    "#column 확인하기\n",
    "col = exc1.columns"
   ]
  },
  {
   "cell_type": "code",
   "execution_count": 4,
   "id": "28d0b0e0-23f6-4d42-b541-9516d091c9da",
   "metadata": {},
   "outputs": [],
   "source": [
    "missing = pd.DataFrame(np.concatenate([exc1, exc2, exc3, exc4]), columns = col)"
   ]
  },
  {
   "cell_type": "markdown",
   "id": "5051ec36-47f2-4a42-8e3b-f9e5f945ab31",
   "metadata": {},
   "source": [
    "## 데이터 확인하기"
   ]
  },
  {
   "cell_type": "code",
   "execution_count": 5,
   "id": "50a49c48-be1e-4a5a-956e-06b56cece052",
   "metadata": {},
   "outputs": [
    {
     "data": {
      "text/html": [
       "<div>\n",
       "<style scoped>\n",
       "    .dataframe tbody tr th:only-of-type {\n",
       "        vertical-align: middle;\n",
       "    }\n",
       "\n",
       "    .dataframe tbody tr th {\n",
       "        vertical-align: top;\n",
       "    }\n",
       "\n",
       "    .dataframe thead th {\n",
       "        text-align: right;\n",
       "    }\n",
       "</style>\n",
       "<table border=\"1\" class=\"dataframe\">\n",
       "  <thead>\n",
       "    <tr style=\"text-align: right;\">\n",
       "      <th></th>\n",
       "      <th>대상구분</th>\n",
       "      <th>실종나이</th>\n",
       "      <th>발생일시</th>\n",
       "      <th>등록일시</th>\n",
       "      <th>발견일시</th>\n",
       "      <th>발생지역</th>\n",
       "    </tr>\n",
       "  </thead>\n",
       "  <tbody>\n",
       "    <tr>\n",
       "      <th>0</th>\n",
       "      <td>지적ㆍ자폐성ㆍ정신장애인</td>\n",
       "      <td>13</td>\n",
       "      <td>2015-01-01 08:30</td>\n",
       "      <td>2015-01-01 15:15</td>\n",
       "      <td>2015-01-01 16:10</td>\n",
       "      <td>부산 부산진구 부전2동</td>\n",
       "    </tr>\n",
       "    <tr>\n",
       "      <th>1</th>\n",
       "      <td>지적ㆍ자폐성ㆍ정신장애인</td>\n",
       "      <td>36</td>\n",
       "      <td>2014-12-31 00:00</td>\n",
       "      <td>2015-01-01 15:16</td>\n",
       "      <td>2015-01-06 17:00</td>\n",
       "      <td>부산 사하구 장평로</td>\n",
       "    </tr>\n",
       "    <tr>\n",
       "      <th>2</th>\n",
       "      <td>지적ㆍ자폐성ㆍ정신장애인</td>\n",
       "      <td>53</td>\n",
       "      <td>2015-01-01 14:00</td>\n",
       "      <td>2015-01-01 17:45</td>\n",
       "      <td>2015-01-02 01:20</td>\n",
       "      <td>경기도 안양시 동안구</td>\n",
       "    </tr>\n",
       "    <tr>\n",
       "      <th>3</th>\n",
       "      <td>지적ㆍ자폐성ㆍ정신장애인</td>\n",
       "      <td>48</td>\n",
       "      <td>2015-01-01 17:00</td>\n",
       "      <td>2015-01-01 19:34</td>\n",
       "      <td>2015-01-01 20:10</td>\n",
       "      <td>경기도 양평군 양근로398번길</td>\n",
       "    </tr>\n",
       "    <tr>\n",
       "      <th>4</th>\n",
       "      <td>지적ㆍ자폐성ㆍ정신장애인</td>\n",
       "      <td>32</td>\n",
       "      <td>2014-12-31 18:00</td>\n",
       "      <td>2015-01-01 13:47</td>\n",
       "      <td>2015-01-01 17:00</td>\n",
       "      <td>충청북도 청주시 흥덕구</td>\n",
       "    </tr>\n",
       "  </tbody>\n",
       "</table>\n",
       "</div>"
      ],
      "text/plain": [
       "           대상구분 실종나이              발생일시              등록일시              발견일시  \\\n",
       "0  지적ㆍ자폐성ㆍ정신장애인   13  2015-01-01 08:30  2015-01-01 15:15  2015-01-01 16:10   \n",
       "1  지적ㆍ자폐성ㆍ정신장애인   36  2014-12-31 00:00  2015-01-01 15:16  2015-01-06 17:00   \n",
       "2  지적ㆍ자폐성ㆍ정신장애인   53  2015-01-01 14:00  2015-01-01 17:45  2015-01-02 01:20   \n",
       "3  지적ㆍ자폐성ㆍ정신장애인   48  2015-01-01 17:00  2015-01-01 19:34  2015-01-01 20:10   \n",
       "4  지적ㆍ자폐성ㆍ정신장애인   32  2014-12-31 18:00  2015-01-01 13:47  2015-01-01 17:00   \n",
       "\n",
       "               발생지역  \n",
       "0      부산 부산진구 부전2동  \n",
       "1        부산 사하구 장평로  \n",
       "2       경기도 안양시 동안구  \n",
       "3  경기도 양평군 양근로398번길  \n",
       "4      충청북도 청주시 흥덕구  "
      ]
     },
     "execution_count": 5,
     "metadata": {},
     "output_type": "execute_result"
    }
   ],
   "source": [
    "missing.head()"
   ]
  },
  {
   "cell_type": "code",
   "execution_count": 6,
   "id": "7c28e148-b2ab-4d5b-9873-44f16871010a",
   "metadata": {},
   "outputs": [
    {
     "name": "stdout",
     "output_type": "stream",
     "text": [
      "<class 'pandas.core.frame.DataFrame'>\n",
      "RangeIndex: 232903 entries, 0 to 232902\n",
      "Data columns (total 6 columns):\n",
      " #   Column  Non-Null Count   Dtype \n",
      "---  ------  --------------   ----- \n",
      " 0   대상구분    232903 non-null  object\n",
      " 1   실종나이    232903 non-null  object\n",
      " 2   발생일시    232903 non-null  object\n",
      " 3   등록일시    232903 non-null  object\n",
      " 4   발견일시    232903 non-null  object\n",
      " 5   발생지역    232894 non-null  object\n",
      "dtypes: object(6)\n",
      "memory usage: 10.7+ MB\n",
      "None\n"
     ]
    },
    {
     "data": {
      "text/html": [
       "<div>\n",
       "<style scoped>\n",
       "    .dataframe tbody tr th:only-of-type {\n",
       "        vertical-align: middle;\n",
       "    }\n",
       "\n",
       "    .dataframe tbody tr th {\n",
       "        vertical-align: top;\n",
       "    }\n",
       "\n",
       "    .dataframe thead th {\n",
       "        text-align: right;\n",
       "    }\n",
       "</style>\n",
       "<table border=\"1\" class=\"dataframe\">\n",
       "  <thead>\n",
       "    <tr style=\"text-align: right;\">\n",
       "      <th></th>\n",
       "      <th>대상구분</th>\n",
       "      <th>실종나이</th>\n",
       "      <th>발생일시</th>\n",
       "      <th>등록일시</th>\n",
       "      <th>발견일시</th>\n",
       "      <th>발생지역</th>\n",
       "    </tr>\n",
       "  </thead>\n",
       "  <tbody>\n",
       "    <tr>\n",
       "      <th>count</th>\n",
       "      <td>232903</td>\n",
       "      <td>232903</td>\n",
       "      <td>232903</td>\n",
       "      <td>232903</td>\n",
       "      <td>232903</td>\n",
       "      <td>232894</td>\n",
       "    </tr>\n",
       "    <tr>\n",
       "      <th>unique</th>\n",
       "      <td>3</td>\n",
       "      <td>121</td>\n",
       "      <td>122064</td>\n",
       "      <td>222938</td>\n",
       "      <td>169462</td>\n",
       "      <td>56523</td>\n",
       "    </tr>\n",
       "    <tr>\n",
       "      <th>top</th>\n",
       "      <td>아동</td>\n",
       "      <td>14</td>\n",
       "      <td>1970-01-01 00:00</td>\n",
       "      <td>2021-03-31 14:10</td>\n",
       "      <td>2018-10-01 18:00</td>\n",
       "      <td>경기도 안산시 단원구</td>\n",
       "    </tr>\n",
       "    <tr>\n",
       "      <th>freq</th>\n",
       "      <td>101363</td>\n",
       "      <td>18930</td>\n",
       "      <td>18</td>\n",
       "      <td>4</td>\n",
       "      <td>12</td>\n",
       "      <td>2174</td>\n",
       "    </tr>\n",
       "  </tbody>\n",
       "</table>\n",
       "</div>"
      ],
      "text/plain": [
       "          대상구분    실종나이              발생일시              등록일시              발견일시  \\\n",
       "count   232903  232903            232903            232903            232903   \n",
       "unique       3     121            122064            222938            169462   \n",
       "top         아동      14  1970-01-01 00:00  2021-03-31 14:10  2018-10-01 18:00   \n",
       "freq    101363   18930                18                 4                12   \n",
       "\n",
       "               발생지역  \n",
       "count        232894  \n",
       "unique        56523  \n",
       "top     경기도 안산시 단원구  \n",
       "freq           2174  "
      ]
     },
     "metadata": {},
     "output_type": "display_data"
    },
    {
     "name": "stdout",
     "output_type": "stream",
     "text": [
      "(232903, 6)\n"
     ]
    }
   ],
   "source": [
    "print(missing.info())\n",
    "display(missing.describe(include='all')) # --> 아동의 실종 건수가 가장 많음 / 경기도 안산시??\n",
    "print(missing.shape)"
   ]
  },
  {
   "cell_type": "code",
   "execution_count": 7,
   "id": "1a727266-6517-4ce2-b5d7-5d7659f88088",
   "metadata": {
    "tags": []
   },
   "outputs": [
    {
     "name": "stdout",
     "output_type": "stream",
     "text": [
      "2021\n"
     ]
    },
    {
     "data": {
      "text/plain": [
       "1946        1\n",
       "1937        1\n",
       "1951        1\n",
       "1948        1\n",
       "1953        2\n",
       "        ...  \n",
       "2021    33783\n",
       "2020    37863\n",
       "2017    38226\n",
       "2019    41652\n",
       "2018    42352\n",
       "Name: 발생일시, Length: 74, dtype: int64"
      ]
     },
     "execution_count": 7,
     "metadata": {},
     "output_type": "execute_result"
    }
   ],
   "source": [
    "print(sorted(missing['발생일시'].apply(lambda x: x.split('-')[0]))[232902])\n",
    "missing['발생일시'].apply(lambda x: x.split('-')[0]).value_counts(ascending=True)"
   ]
  },
  {
   "cell_type": "markdown",
   "id": "5a4ae30f-ff36-4f99-b942-7de9786fa9c8",
   "metadata": {},
   "source": [
    "## 기본 처리"
   ]
  },
  {
   "cell_type": "code",
   "execution_count": 8,
   "id": "69621ee5-8a74-4a02-8366-a3c905e7769f",
   "metadata": {},
   "outputs": [],
   "source": [
    "missing = missing.loc[(missing['대상구분'] == '아동') & (missing['실종나이'] >= 1) & (missing['실종나이'] < 19), :]"
   ]
  },
  {
   "cell_type": "code",
   "execution_count": 11,
   "id": "c5c2ce22-3335-4337-99f2-ffb1364ec8f3",
   "metadata": {},
   "outputs": [],
   "source": [
    "missing.loc[missing['발생일시'] == '2020-04-18 20:', '발생일시'] = '2020-04-18 20:00'\n",
    "missing.loc[missing['발견일시'] == '2018-02-03', '발견일시'] = '2018-02-03 00:00'"
   ]
  },
  {
   "cell_type": "code",
   "execution_count": 12,
   "id": "6078ae42-4395-4d5e-90b9-654193539cea",
   "metadata": {},
   "outputs": [],
   "source": [
    "missing['dt'] = pd.to_datetime(missing['발생일시'], format='%Y-%m-%d %H:%M')"
   ]
  },
  {
   "cell_type": "code",
   "execution_count": 13,
   "id": "788649c1-ea5b-4370-b4ba-d16968a0ece9",
   "metadata": {},
   "outputs": [],
   "source": [
    "missing = missing[missing.dt.apply(lambda x: x.year) >= 2017]"
   ]
  },
  {
   "cell_type": "code",
   "execution_count": 14,
   "id": "dd20862e-19e5-4c7d-8e55-512f6ec68cbd",
   "metadata": {},
   "outputs": [],
   "source": [
    "# 찾는데 소요된 시간을 구하기 위해 datetime객체로 변환\n",
    "missing['발생일시'] = missing['발생일시'].apply(lambda x: dt.datetime.strptime(x, '%Y-%m-%d %H:%M'))\n",
    "missing['등록일시'] = missing['등록일시'].apply(lambda x: dt.datetime.strptime(x, '%Y-%m-%d %H:%M'))\n",
    "missing['발견일시'] = missing['발견일시'].apply(lambda x: dt.datetime.strptime(x, '%Y-%m-%d %H:%M'))"
   ]
  },
  {
   "cell_type": "markdown",
   "id": "d7568013-8b16-42a3-b35a-a2ef5768555e",
   "metadata": {},
   "source": [
    "## 분석 나이대 설정 위해 살펴보기"
   ]
  },
  {
   "cell_type": "markdown",
   "id": "c7f162dd-d1ee-447b-9864-93c6ffc7b8bd",
   "metadata": {
    "tags": []
   },
   "source": [
    "### 발생일시와 등록일시를 기반으로"
   ]
  },
  {
   "cell_type": "code",
   "execution_count": 15,
   "id": "aba81d1a-8e38-4b77-84e9-c90f189ea403",
   "metadata": {},
   "outputs": [],
   "source": [
    "missing_age = missing.copy()"
   ]
  },
  {
   "cell_type": "code",
   "execution_count": 16,
   "id": "ea77b889-c45c-433e-af98-ccfd2872a7a9",
   "metadata": {},
   "outputs": [],
   "source": [
    "missing_age['days'] = (missing_age['등록일시'] - missing_age['발생일시']).apply(lambda x: x.days)"
   ]
  },
  {
   "cell_type": "code",
   "execution_count": 17,
   "id": "3ac86653-fad7-4da4-900e-c3d8fc8dc58f",
   "metadata": {},
   "outputs": [],
   "source": [
    "lst_age = missing_age[missing_age['days'] < 0]"
   ]
  },
  {
   "cell_type": "code",
   "execution_count": 18,
   "id": "6789e3f4-0303-4bea-9914-02a77b2d1345",
   "metadata": {},
   "outputs": [],
   "source": [
    "lst_age_idx = lst_age.index"
   ]
  },
  {
   "cell_type": "code",
   "execution_count": 19,
   "id": "1b7c01f2-21c2-4477-812b-0cfb9d454ec8",
   "metadata": {},
   "outputs": [],
   "source": [
    "missing_age.loc[lst_age_idx, 'days'] = (missing_age.loc[lst_age_idx, '발생일시'] - missing_age.loc[lst_age_idx, '등록일시']).apply(lambda x: x.days)"
   ]
  },
  {
   "cell_type": "code",
   "execution_count": 20,
   "id": "9c5196f0-3e0f-433c-b7d3-bbb284cae0b9",
   "metadata": {},
   "outputs": [],
   "source": [
    "missing_age_result = missing_age.loc[missing_age['days'] == 0, :]"
   ]
  },
  {
   "cell_type": "code",
   "execution_count": null,
   "id": "ee7e4701-f42d-4bfb-8704-bdc0537eb22b",
   "metadata": {},
   "outputs": [],
   "source": []
  },
  {
   "cell_type": "code",
   "execution_count": 21,
   "id": "264caa8a-273d-4553-8ee8-c7d544b3f31b",
   "metadata": {},
   "outputs": [],
   "source": [
    "age_mapping = pd.DataFrame({\n",
    "    '실종나이': np.arange(1, 19, 1),\n",
    "})\n",
    "age_mapping.reset_index(inplace = True)\n",
    "age_mapping.set_index('실종나이', inplace=True)"
   ]
  },
  {
   "cell_type": "code",
   "execution_count": 22,
   "id": "812a6dd5-f6be-4a29-a118-db5be5c3dec6",
   "metadata": {},
   "outputs": [
    {
     "name": "stderr",
     "output_type": "stream",
     "text": [
      "C:\\Users\\hajae\\AppData\\Local\\Temp/ipykernel_12228/3168488173.py:1: SettingWithCopyWarning: \n",
      "A value is trying to be set on a copy of a slice from a DataFrame.\n",
      "Try using .loc[row_indexer,col_indexer] = value instead\n",
      "\n",
      "See the caveats in the documentation: https://pandas.pydata.org/pandas-docs/stable/user_guide/indexing.html#returning-a-view-versus-a-copy\n",
      "  missing_age_result['나이'] = missing_age_result['실종나이'].map(age_mapping['index'])\n"
     ]
    }
   ],
   "source": [
    "missing_age_result['나이'] = missing_age_result['실종나이'].map(age_mapping['index'])"
   ]
  },
  {
   "cell_type": "code",
   "execution_count": 23,
   "id": "c65fdf92-26ac-4650-a094-0699fdd55d1e",
   "metadata": {
    "tags": []
   },
   "outputs": [],
   "source": [
    "missing_age_result0 = missing_age_result.value_counts('나이')"
   ]
  },
  {
   "cell_type": "code",
   "execution_count": 24,
   "id": "c6255a69-2e35-4eeb-94d6-dc3624f58948",
   "metadata": {},
   "outputs": [],
   "source": [
    "missing_age_result0 = missing_age_result0.to_frame()"
   ]
  },
  {
   "cell_type": "code",
   "execution_count": 25,
   "id": "3da9dfe8-9fd4-4bc6-b0f6-538ea3a121f1",
   "metadata": {},
   "outputs": [],
   "source": [
    "missing_age_result0.reset_index(inplace = True)"
   ]
  },
  {
   "cell_type": "code",
   "execution_count": 26,
   "id": "4954991e-13e1-447a-bfa4-edf99f52a562",
   "metadata": {},
   "outputs": [],
   "source": [
    "missing_age_result0.columns = ['나이', 'count']"
   ]
  },
  {
   "cell_type": "code",
   "execution_count": 27,
   "id": "b4e4923a-2410-4bb0-9a5c-9a5ba661b8d2",
   "metadata": {},
   "outputs": [],
   "source": [
    "missing_age_result0['age'] = missing_age_result0['나이'].map(age_mapping['index'])"
   ]
  },
  {
   "cell_type": "code",
   "execution_count": 28,
   "id": "72e199d5-c9fe-490e-a13d-9b13bf1fb7a6",
   "metadata": {},
   "outputs": [],
   "source": [
    "missing_age_result0 = missing_age_result0.sort_values('age')"
   ]
  },
  {
   "cell_type": "code",
   "execution_count": 29,
   "id": "1f11971b-5dfd-4249-9340-fa16fe968c64",
   "metadata": {},
   "outputs": [],
   "source": [
    "missing_age_result0.dropna(inplace=True)"
   ]
  },
  {
   "cell_type": "code",
   "execution_count": 30,
   "id": "e94b006d-97a1-4e46-99a9-074bd42a6fe5",
   "metadata": {},
   "outputs": [
    {
     "data": {
      "image/png": "[encoded data removed]",
      "text/plain": [
       "<Figure size 720x720 with 1 Axes>"
      ]
     },
     "metadata": {
      "needs_background": "light"
     },
     "output_type": "display_data"
    }
   ],
   "source": [
    "plt.figure(figsize=(10, 10))\n",
    "plt.title('나이대별 실종 아동 신고 건수')\n",
    "plt.bar(missing_age_result0['나이'], missing_age_result0['count'])\n",
    "plt.savefig('./result/나이대별 실종 아동 신고 건수.png')\n",
    "plt.show()"
   ]
  },
  {
   "cell_type": "code",
   "execution_count": null,
   "id": "1de4a302-e71e-4efd-93a4-6eeb8516c8cc",
   "metadata": {},
   "outputs": [],
   "source": []
  }
 ],
 "metadata": {
  "kernelspec": {
   "display_name": "pydatavenv",
   "language": "python",
   "name": "pydatavenv"
  },
  "language_info": {
   "codemirror_mode": {
    "name": "ipython",
    "version": 3
   },
   "file_extension": ".py",
   "mimetype": "text/x-python",
   "name": "python",
   "nbconvert_exporter": "python",
   "pygments_lexer": "ipython3",
   "version": "3.8.11"
  }
 },
 "nbformat": 4,
 "nbformat_minor": 5
}
