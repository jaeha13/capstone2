{
 "cells": [
  {
   "cell_type": "code",
   "execution_count": 65,
   "id": "74827086-c0d3-487d-8451-5d33a71a4bcf",
   "metadata": {},
   "outputs": [],
   "source": [
    "import pandas as pd\n",
    "import numpy as np\n",
    "import matplotlib.pyplot as plt\n",
    "from matplotlib import rc, font_manager\n",
    "import re\n",
    "import seaborn as sns\n",
    "import warnings\n",
    "import pickle\n",
    "\n",
    "warnings.filterwarnings('ignore')\n",
    "\n",
    "font_path = './malgun.ttf'\n",
    "font_name = font_manager.FontProperties(fname=font_path).get_name()\n",
    "rc('font', family=font_name)"
   ]
  },
  {
   "cell_type": "code",
   "execution_count": 66,
   "id": "54cffece-f7cc-4ba8-a75a-81bfd1bcdba0",
   "metadata": {},
   "outputs": [],
   "source": [
    "def reset_data(file):\n",
    "    pop = pd.read_csv(file, sep=',')\n",
    "    pop.drop('여자70세이상생활인구수', axis=1, inplace=True)\n",
    "\n",
    "    pop.columns = ['시간대구분', '행정동코드', '총생활인구수', '남자0세부터9세생활인구수', '남자10세부터14세생활인구수',\n",
    "       '남자15세부터19세생활인구수', '남자20세부터24세생활인구수', '남자25세부터29세생활인구수',\n",
    "       '남자30세부터34세생활인구수', '남자35세부터39세생활인구수', '남자40세부터44세생활인구수',\n",
    "       '남자45세부터49세생활인구수', '남자50세부터54세생활인구수', '남자55세부터59세생활인구수',\n",
    "       '남자60세부터64세생활인구수', '남자65세부터69세생활인구수', '남자70세이상생활인구수', '여자0세부터9세생활인구수',\n",
    "       '여자10세부터14세생활인구수', '여자15세부터19세생활인구수', '여자20세부터24세생활인구수',\n",
    "       '여자25세부터29세생활인구수', '여자30세부터34세생활인구수', '여자35세부터39세생활인구수',\n",
    "       '여자40세부터44세생활인구수', '여자45세부터49세생활인구수', '여자50세부터54세생활인구수',\n",
    "       '여자55세부터59세생활인구수', '여자60세부터64세생활인구수', '여자65세부터69세생활인구수', '여자70세이상생활인구수']\n",
    "\n",
    "    col = pop.columns.to_list()\n",
    "    col_list = ['기준일ID']\n",
    "\n",
    "    col_list += col\n",
    "\n",
    "    pop.reset_index(inplace=True)\n",
    "    pop.columns = col_list\n",
    "\n",
    "    pop.to_csv(file, sep=',', index=False)"
   ]
  },
  {
   "cell_type": "code",
   "execution_count": 67,
   "id": "b587daec-6c35-4529-bdbe-1857912ac529",
   "metadata": {},
   "outputs": [],
   "source": [
    "# for i in range(1, 12):\n",
    "#     reset_data('./data_missing/LOCAL_PEOPLE_DONG_2021' + str(i).zfill(2) + '.csv')\n",
    "# reset_data('./data_missing/LOCAL_PEOPLE_DONG_202012.csv')"
   ]
  },
  {
   "cell_type": "code",
   "execution_count": 68,
   "id": "a96f0035-12bf-4db9-9904-abb7141b30fc",
   "metadata": {},
   "outputs": [],
   "source": [
    "df1 = pd.read_csv('./data_missing/LOCAL_PEOPLE_DONG_202101.csv', sep=',')\n",
    "df2 = pd.read_csv('./data_missing/LOCAL_PEOPLE_DONG_202102.csv', sep=',')\n",
    "df3 = pd.read_csv('./data_missing/LOCAL_PEOPLE_DONG_202103.csv', sep=',')\n",
    "df4 = pd.read_csv('./data_missing/LOCAL_PEOPLE_DONG_202104.csv', sep=',')\n",
    "df5 = pd.read_csv('./data_missing/LOCAL_PEOPLE_DONG_202105.csv', sep=',')\n",
    "df6 = pd.read_csv('./data_missing/LOCAL_PEOPLE_DONG_202106.csv', sep=',')\n",
    "df7 = pd.read_csv('./data_missing/LOCAL_PEOPLE_DONG_202107.csv', sep=',')\n",
    "df8 = pd.read_csv('./data_missing/LOCAL_PEOPLE_DONG_202108.csv', sep=',')\n",
    "df9 = pd.read_csv('./data_missing/LOCAL_PEOPLE_DONG_202109.csv', sep=',')\n",
    "df10 = pd.read_csv('./data_missing/LOCAL_PEOPLE_DONG_202110.csv', sep=',')\n",
    "df11 = pd.read_csv('./data_missing/LOCAL_PEOPLE_DONG_202111.csv', sep=',')\n",
    "df12 = pd.read_csv('./data_missing/LOCAL_PEOPLE_DONG_202012.csv', sep=',')"
   ]
  },
  {
   "cell_type": "code",
   "execution_count": 69,
   "id": "9bc2bd3d-2840-485a-bdff-6170248d1bd3",
   "metadata": {},
   "outputs": [],
   "source": [
    "df = pd.concat([df1, df2, df3, df4, df5, df6, df7, df8, df9, df10, df11, df12])"
   ]
  },
  {
   "cell_type": "code",
   "execution_count": 70,
   "id": "1ba6097d-8dae-4c94-be42-1cc1f53a8d62",
   "metadata": {},
   "outputs": [],
   "source": [
    "df['시군구코드'] = df['행정동코드'].apply(lambda x: str(x)[:5])"
   ]
  },
  {
   "cell_type": "code",
   "execution_count": 71,
   "id": "7aad242c-d819-4399-b7d1-31b0d079b790",
   "metadata": {},
   "outputs": [
    {
     "data": {
      "text/plain": [
       "20210101    10176\n",
       "20210909    10176\n",
       "20210907    10176\n",
       "20210906    10176\n",
       "20210905    10176\n",
       "            ...  \n",
       "20210501    10176\n",
       "20210430    10176\n",
       "20210429    10176\n",
       "20210428    10176\n",
       "20201231    10176\n",
       "Name: 기준일ID, Length: 365, dtype: int64"
      ]
     },
     "execution_count": 71,
     "metadata": {},
     "output_type": "execute_result"
    }
   ],
   "source": [
    "pd.set_option('display.max_rows', 10)\n",
    "df.기준일ID.value_counts()"
   ]
  },
  {
   "cell_type": "code",
   "execution_count": 72,
   "id": "26bc90cc-84ca-4b29-9728-9452b667d453",
   "metadata": {},
   "outputs": [],
   "source": [
    "df['dt'] = pd.to_datetime(df['기준일ID'], format='%Y%m%d')"
   ]
  },
  {
   "cell_type": "code",
   "execution_count": 73,
   "id": "45c37473-45f8-4500-9df1-6d96a24ddaf0",
   "metadata": {},
   "outputs": [],
   "source": [
    "df['day'] = df['dt'].apply(lambda x: x.weekday())"
   ]
  },
  {
   "cell_type": "code",
   "execution_count": 74,
   "id": "54b8ca75-6880-4f28-8d33-49922c35f576",
   "metadata": {},
   "outputs": [],
   "source": [
    "mapping = {'11110': '종로구', '11140': '중구', '11170': '용산구', '11200': '성동구', '11215': '광진구',\n",
    "           '11230': '동대문구', '11260': '중랑구', '11290': '성북구', '11305': '강북구', '11320': '도봉구',\n",
    "           '11350': '노원구', '11380': '은평구', '11410': '서대문구', '11440': '마포구', '11470': '양천구',\n",
    "           '11500': '강서구', '11530': '구로구', '11545': '금천구', '11560': '영등포구', '11590': '동작구',\n",
    "           '11620': '관악구', '11650': '서초구', '11680': '강남구', '11710': '송파구', '11740': '강동구'}"
   ]
  },
  {
   "cell_type": "code",
   "execution_count": 75,
   "id": "f609f41b-5e67-447f-9969-3015626d06d1",
   "metadata": {},
   "outputs": [],
   "source": [
    "df['자치구'] = df['시군구코드'].map(mapping)"
   ]
  },
  {
   "cell_type": "code",
   "execution_count": 76,
   "id": "8b627da3-b9c8-4768-9b44-6d9abe2479d0",
   "metadata": {},
   "outputs": [],
   "source": [
    "with open('./result/mapping.pkl', 'rb') as f:\n",
    "    map_data = pickle.load(f)"
   ]
  },
  {
   "cell_type": "code",
   "execution_count": 77,
   "id": "cc56dd84-0ef4-4d11-8499-4810c4804f5c",
   "metadata": {},
   "outputs": [],
   "source": [
    "df['행정동코드'] = df['행정동코드'].astype(str)\n",
    "df['행정동'] = df['행정동코드'].map(map_data)"
   ]
  },
  {
   "cell_type": "code",
   "execution_count": 78,
   "id": "0a605ca3-08b2-489a-9bd0-541d7a77cd07",
   "metadata": {},
   "outputs": [
    {
     "data": {
      "text/html": [
       "<div>\n",
       "<style scoped>\n",
       "    .dataframe tbody tr th:only-of-type {\n",
       "        vertical-align: middle;\n",
       "    }\n",
       "\n",
       "    .dataframe tbody tr th {\n",
       "        vertical-align: top;\n",
       "    }\n",
       "\n",
       "    .dataframe thead th {\n",
       "        text-align: right;\n",
       "    }\n",
       "</style>\n",
       "<table border=\"1\" class=\"dataframe\">\n",
       "  <thead>\n",
       "    <tr style=\"text-align: right;\">\n",
       "      <th></th>\n",
       "      <th>기준일ID</th>\n",
       "      <th>시간대구분</th>\n",
       "      <th>행정동코드</th>\n",
       "      <th>총생활인구수</th>\n",
       "      <th>남자0세부터9세생활인구수</th>\n",
       "      <th>남자10세부터14세생활인구수</th>\n",
       "      <th>남자15세부터19세생활인구수</th>\n",
       "      <th>남자20세부터24세생활인구수</th>\n",
       "      <th>남자25세부터29세생활인구수</th>\n",
       "      <th>남자30세부터34세생활인구수</th>\n",
       "      <th>...</th>\n",
       "      <th>여자50세부터54세생활인구수</th>\n",
       "      <th>여자55세부터59세생활인구수</th>\n",
       "      <th>여자60세부터64세생활인구수</th>\n",
       "      <th>여자65세부터69세생활인구수</th>\n",
       "      <th>여자70세이상생활인구수</th>\n",
       "      <th>시군구코드</th>\n",
       "      <th>dt</th>\n",
       "      <th>day</th>\n",
       "      <th>자치구</th>\n",
       "      <th>행정동</th>\n",
       "    </tr>\n",
       "  </thead>\n",
       "  <tbody>\n",
       "    <tr>\n",
       "      <th>0</th>\n",
       "      <td>20210101</td>\n",
       "      <td>0</td>\n",
       "      <td>11110515</td>\n",
       "      <td>14473.8890</td>\n",
       "      <td>504.7535</td>\n",
       "      <td>321.6298</td>\n",
       "      <td>474.2765</td>\n",
       "      <td>624.4867</td>\n",
       "      <td>507.3616</td>\n",
       "      <td>405.9607</td>\n",
       "      <td>...</td>\n",
       "      <td>609.6886</td>\n",
       "      <td>590.1671</td>\n",
       "      <td>422.7630</td>\n",
       "      <td>339.8220</td>\n",
       "      <td>1138.9208</td>\n",
       "      <td>11110</td>\n",
       "      <td>2021-01-01</td>\n",
       "      <td>4</td>\n",
       "      <td>종로구</td>\n",
       "      <td>청운효자동</td>\n",
       "    </tr>\n",
       "    <tr>\n",
       "      <th>1</th>\n",
       "      <td>20210101</td>\n",
       "      <td>0</td>\n",
       "      <td>11110530</td>\n",
       "      <td>13299.5313</td>\n",
       "      <td>364.9421</td>\n",
       "      <td>162.1967</td>\n",
       "      <td>254.0620</td>\n",
       "      <td>318.9359</td>\n",
       "      <td>449.9919</td>\n",
       "      <td>419.8851</td>\n",
       "      <td>...</td>\n",
       "      <td>522.3540</td>\n",
       "      <td>543.4003</td>\n",
       "      <td>447.2674</td>\n",
       "      <td>363.1686</td>\n",
       "      <td>1138.6352</td>\n",
       "      <td>11110</td>\n",
       "      <td>2021-01-01</td>\n",
       "      <td>4</td>\n",
       "      <td>종로구</td>\n",
       "      <td>사직동</td>\n",
       "    </tr>\n",
       "    <tr>\n",
       "      <th>2</th>\n",
       "      <td>20210101</td>\n",
       "      <td>0</td>\n",
       "      <td>11110550</td>\n",
       "      <td>15518.3772</td>\n",
       "      <td>418.3329</td>\n",
       "      <td>324.3693</td>\n",
       "      <td>380.5245</td>\n",
       "      <td>529.5754</td>\n",
       "      <td>470.6277</td>\n",
       "      <td>415.8823</td>\n",
       "      <td>...</td>\n",
       "      <td>692.5841</td>\n",
       "      <td>693.3884</td>\n",
       "      <td>630.9412</td>\n",
       "      <td>421.9502</td>\n",
       "      <td>1456.3029</td>\n",
       "      <td>11110</td>\n",
       "      <td>2021-01-01</td>\n",
       "      <td>4</td>\n",
       "      <td>종로구</td>\n",
       "      <td>부암동</td>\n",
       "    </tr>\n",
       "    <tr>\n",
       "      <th>3</th>\n",
       "      <td>20210101</td>\n",
       "      <td>0</td>\n",
       "      <td>11110600</td>\n",
       "      <td>5108.9481</td>\n",
       "      <td>122.7939</td>\n",
       "      <td>86.6778</td>\n",
       "      <td>90.4754</td>\n",
       "      <td>203.9829</td>\n",
       "      <td>137.2541</td>\n",
       "      <td>124.3374</td>\n",
       "      <td>...</td>\n",
       "      <td>247.4089</td>\n",
       "      <td>227.3631</td>\n",
       "      <td>163.6567</td>\n",
       "      <td>135.4872</td>\n",
       "      <td>406.3143</td>\n",
       "      <td>11110</td>\n",
       "      <td>2021-01-01</td>\n",
       "      <td>4</td>\n",
       "      <td>종로구</td>\n",
       "      <td>가회동</td>\n",
       "    </tr>\n",
       "    <tr>\n",
       "      <th>4</th>\n",
       "      <td>20210101</td>\n",
       "      <td>0</td>\n",
       "      <td>11110700</td>\n",
       "      <td>7907.7246</td>\n",
       "      <td>224.1087</td>\n",
       "      <td>106.2126</td>\n",
       "      <td>153.8756</td>\n",
       "      <td>194.7256</td>\n",
       "      <td>272.8423</td>\n",
       "      <td>315.6010</td>\n",
       "      <td>...</td>\n",
       "      <td>370.3215</td>\n",
       "      <td>377.7498</td>\n",
       "      <td>258.4794</td>\n",
       "      <td>213.1911</td>\n",
       "      <td>532.8069</td>\n",
       "      <td>11110</td>\n",
       "      <td>2021-01-01</td>\n",
       "      <td>4</td>\n",
       "      <td>종로구</td>\n",
       "      <td>숭인1동</td>\n",
       "    </tr>\n",
       "  </tbody>\n",
       "</table>\n",
       "<p>5 rows × 37 columns</p>\n",
       "</div>"
      ],
      "text/plain": [
       "      기준일ID  시간대구분     행정동코드      총생활인구수  남자0세부터9세생활인구수  남자10세부터14세생활인구수  \\\n",
       "0  20210101      0  11110515  14473.8890       504.7535         321.6298   \n",
       "1  20210101      0  11110530  13299.5313       364.9421         162.1967   \n",
       "2  20210101      0  11110550  15518.3772       418.3329         324.3693   \n",
       "3  20210101      0  11110600   5108.9481       122.7939          86.6778   \n",
       "4  20210101      0  11110700   7907.7246       224.1087         106.2126   \n",
       "\n",
       "   남자15세부터19세생활인구수  남자20세부터24세생활인구수  남자25세부터29세생활인구수  남자30세부터34세생활인구수  ...  \\\n",
       "0         474.2765         624.4867         507.3616         405.9607  ...   \n",
       "1         254.0620         318.9359         449.9919         419.8851  ...   \n",
       "2         380.5245         529.5754         470.6277         415.8823  ...   \n",
       "3          90.4754         203.9829         137.2541         124.3374  ...   \n",
       "4         153.8756         194.7256         272.8423         315.6010  ...   \n",
       "\n",
       "   여자50세부터54세생활인구수  여자55세부터59세생활인구수  여자60세부터64세생활인구수  여자65세부터69세생활인구수  \\\n",
       "0         609.6886         590.1671         422.7630         339.8220   \n",
       "1         522.3540         543.4003         447.2674         363.1686   \n",
       "2         692.5841         693.3884         630.9412         421.9502   \n",
       "3         247.4089         227.3631         163.6567         135.4872   \n",
       "4         370.3215         377.7498         258.4794         213.1911   \n",
       "\n",
       "   여자70세이상생활인구수  시군구코드         dt  day  자치구    행정동  \n",
       "0     1138.9208  11110 2021-01-01    4  종로구  청운효자동  \n",
       "1     1138.6352  11110 2021-01-01    4  종로구    사직동  \n",
       "2     1456.3029  11110 2021-01-01    4  종로구    부암동  \n",
       "3      406.3143  11110 2021-01-01    4  종로구    가회동  \n",
       "4      532.8069  11110 2021-01-01    4  종로구   숭인1동  \n",
       "\n",
       "[5 rows x 37 columns]"
      ]
     },
     "execution_count": 78,
     "metadata": {},
     "output_type": "execute_result"
    }
   ],
   "source": [
    "df.head()"
   ]
  },
  {
   "cell_type": "code",
   "execution_count": 79,
   "id": "f7231ce7-1ebf-4993-8fd2-c01e46e8a33e",
   "metadata": {},
   "outputs": [],
   "source": [
    "df['10세미만생활인구'] = df['남자0세부터9세생활인구수'] + df['여자0세부터9세생활인구수']"
   ]
  },
  {
   "cell_type": "code",
   "execution_count": 80,
   "id": "f1204229-6e60-414f-8c58-345779ddf377",
   "metadata": {},
   "outputs": [],
   "source": [
    "df_g = df.groupby(['day', '시간대구분', '자치구', '행정동'])[['총생활인구수', '10세미만생활인구']].mean()"
   ]
  },
  {
   "cell_type": "code",
   "execution_count": 81,
   "id": "d843dcf5-3bc5-4b6d-a093-38faa92f0266",
   "metadata": {},
   "outputs": [],
   "source": [
    "df_g.reset_index(inplace=True)"
   ]
  },
  {
   "cell_type": "code",
   "execution_count": 82,
   "id": "f566a17b-cf7d-4309-9c62-58bea478fb68",
   "metadata": {},
   "outputs": [
    {
     "data": {
      "text/html": [
       "<div>\n",
       "<style scoped>\n",
       "    .dataframe tbody tr th:only-of-type {\n",
       "        vertical-align: middle;\n",
       "    }\n",
       "\n",
       "    .dataframe tbody tr th {\n",
       "        vertical-align: top;\n",
       "    }\n",
       "\n",
       "    .dataframe thead th {\n",
       "        text-align: right;\n",
       "    }\n",
       "</style>\n",
       "<table border=\"1\" class=\"dataframe\">\n",
       "  <thead>\n",
       "    <tr style=\"text-align: right;\">\n",
       "      <th></th>\n",
       "      <th>day</th>\n",
       "      <th>시간대구분</th>\n",
       "      <th>자치구</th>\n",
       "      <th>행정동</th>\n",
       "      <th>총생활인구수</th>\n",
       "      <th>10세미만생활인구</th>\n",
       "    </tr>\n",
       "  </thead>\n",
       "  <tbody>\n",
       "    <tr>\n",
       "      <th>0</th>\n",
       "      <td>0</td>\n",
       "      <td>0</td>\n",
       "      <td>강남구</td>\n",
       "      <td>개포1동</td>\n",
       "      <td>10086.298988</td>\n",
       "      <td>787.579000</td>\n",
       "    </tr>\n",
       "    <tr>\n",
       "      <th>1</th>\n",
       "      <td>0</td>\n",
       "      <td>0</td>\n",
       "      <td>강남구</td>\n",
       "      <td>개포2동</td>\n",
       "      <td>21272.366871</td>\n",
       "      <td>1347.019477</td>\n",
       "    </tr>\n",
       "    <tr>\n",
       "      <th>2</th>\n",
       "      <td>0</td>\n",
       "      <td>0</td>\n",
       "      <td>강남구</td>\n",
       "      <td>개포4동</td>\n",
       "      <td>18862.148160</td>\n",
       "      <td>1209.285902</td>\n",
       "    </tr>\n",
       "    <tr>\n",
       "      <th>3</th>\n",
       "      <td>0</td>\n",
       "      <td>0</td>\n",
       "      <td>강남구</td>\n",
       "      <td>논현1동</td>\n",
       "      <td>32288.635854</td>\n",
       "      <td>923.326242</td>\n",
       "    </tr>\n",
       "    <tr>\n",
       "      <th>4</th>\n",
       "      <td>0</td>\n",
       "      <td>0</td>\n",
       "      <td>강남구</td>\n",
       "      <td>논현2동</td>\n",
       "      <td>30004.114223</td>\n",
       "      <td>1872.658740</td>\n",
       "    </tr>\n",
       "    <tr>\n",
       "      <th>...</th>\n",
       "      <td>...</td>\n",
       "      <td>...</td>\n",
       "      <td>...</td>\n",
       "      <td>...</td>\n",
       "      <td>...</td>\n",
       "      <td>...</td>\n",
       "    </tr>\n",
       "    <tr>\n",
       "      <th>71227</th>\n",
       "      <td>6</td>\n",
       "      <td>23</td>\n",
       "      <td>중랑구</td>\n",
       "      <td>상봉2동</td>\n",
       "      <td>23536.601938</td>\n",
       "      <td>916.283992</td>\n",
       "    </tr>\n",
       "    <tr>\n",
       "      <th>71228</th>\n",
       "      <td>6</td>\n",
       "      <td>23</td>\n",
       "      <td>중랑구</td>\n",
       "      <td>신내1동</td>\n",
       "      <td>37777.444504</td>\n",
       "      <td>4180.144410</td>\n",
       "    </tr>\n",
       "    <tr>\n",
       "      <th>71229</th>\n",
       "      <td>6</td>\n",
       "      <td>23</td>\n",
       "      <td>중랑구</td>\n",
       "      <td>신내2동</td>\n",
       "      <td>19976.098658</td>\n",
       "      <td>1350.212537</td>\n",
       "    </tr>\n",
       "    <tr>\n",
       "      <th>71230</th>\n",
       "      <td>6</td>\n",
       "      <td>23</td>\n",
       "      <td>중랑구</td>\n",
       "      <td>중화1동</td>\n",
       "      <td>19913.866288</td>\n",
       "      <td>1628.731527</td>\n",
       "    </tr>\n",
       "    <tr>\n",
       "      <th>71231</th>\n",
       "      <td>6</td>\n",
       "      <td>23</td>\n",
       "      <td>중랑구</td>\n",
       "      <td>중화2동</td>\n",
       "      <td>28571.258906</td>\n",
       "      <td>1534.947892</td>\n",
       "    </tr>\n",
       "  </tbody>\n",
       "</table>\n",
       "<p>71232 rows × 6 columns</p>\n",
       "</div>"
      ],
      "text/plain": [
       "       day  시간대구분  자치구   행정동        총생활인구수    10세미만생활인구\n",
       "0        0      0  강남구  개포1동  10086.298988   787.579000\n",
       "1        0      0  강남구  개포2동  21272.366871  1347.019477\n",
       "2        0      0  강남구  개포4동  18862.148160  1209.285902\n",
       "3        0      0  강남구  논현1동  32288.635854   923.326242\n",
       "4        0      0  강남구  논현2동  30004.114223  1872.658740\n",
       "...    ...    ...  ...   ...           ...          ...\n",
       "71227    6     23  중랑구  상봉2동  23536.601938   916.283992\n",
       "71228    6     23  중랑구  신내1동  37777.444504  4180.144410\n",
       "71229    6     23  중랑구  신내2동  19976.098658  1350.212537\n",
       "71230    6     23  중랑구  중화1동  19913.866288  1628.731527\n",
       "71231    6     23  중랑구  중화2동  28571.258906  1534.947892\n",
       "\n",
       "[71232 rows x 6 columns]"
      ]
     },
     "execution_count": 82,
     "metadata": {},
     "output_type": "execute_result"
    }
   ],
   "source": [
    "df_g"
   ]
  },
  {
   "cell_type": "code",
   "execution_count": 83,
   "id": "9b10a1c1-5679-48c7-a5b1-9bcf9e267f82",
   "metadata": {},
   "outputs": [],
   "source": [
    "df_g.to_csv('./result/생활인구 연평균.csv', index=False)"
   ]
  },
  {
   "cell_type": "code",
   "execution_count": 84,
   "id": "f3050334-6bba-443a-af27-d3a4c01b585b",
   "metadata": {},
   "outputs": [],
   "source": [
    "시군구_요일별 = df_g.groupby(['자치구', 'day'])[['총생활인구수', '10세미만생활인구']].mean().reset_index()"
   ]
  },
  {
   "cell_type": "code",
   "execution_count": 85,
   "id": "feeb43cb-f56c-40c9-9d33-b2b7d9c534db",
   "metadata": {},
   "outputs": [],
   "source": [
    "시군구_요일별.to_csv('./result/자치구 요일별 총생활인구_test.csv', sep=',', index=False)"
   ]
  },
  {
   "cell_type": "code",
   "execution_count": null,
   "id": "79b5f5f8-64b4-420e-9377-5ca945cbb891",
   "metadata": {},
   "outputs": [],
   "source": []
  },
  {
   "cell_type": "code",
   "execution_count": 90,
   "id": "edb8b7f0-fedc-4100-90c6-9e8b76c1af30",
   "metadata": {},
   "outputs": [],
   "source": [
    "data_day = data.groupby(['자치구', '행정동', 'day'])[['총생활인구수', '10세미만생활인구']].mean().reset_index()"
   ]
  },
  {
   "cell_type": "code",
   "execution_count": 93,
   "id": "d1d88bdf-d9e1-4384-9fc2-79cbdd2de9d9",
   "metadata": {},
   "outputs": [],
   "source": [
    "관악구 = 시군구_요일별[시군구_요일별['자치구'] == '관악구']"
   ]
  },
  {
   "cell_type": "code",
   "execution_count": 94,
   "id": "6dc5eff8-0470-4072-ac46-af6c55be49ad",
   "metadata": {},
   "outputs": [
    {
     "data": {
      "image/png": "[encoded data removed]",
      "text/plain": [
       "<Figure size 1080x432 with 2 Axes>"
      ]
     },
     "metadata": {
      "needs_background": "light"
     },
     "output_type": "display_data"
    }
   ],
   "source": [
    "fig, axes = plt.subplots(1, 2)\n",
    "fig.set_size_inches(15, 6)\n",
    "sns.lineplot(x='day', y='총생활인구수', data=관악구, marker='o', ax = axes[0])\n",
    "sns.lineplot(x='day', y='10세미만생활인구', data=관악구, marker='o', ax = axes[1])\n",
    "axes[0].set_title('총생활인구수')\n",
    "axes[1].set_title('10세미만생활인구')\n",
    "plt.savefig('./result/관악구 요일별 생활인구.png')\n",
    "plt.show()"
   ]
  },
  {
   "cell_type": "code",
   "execution_count": 95,
   "id": "092668fa-1c6b-4e22-b283-6289e766489a",
   "metadata": {},
   "outputs": [],
   "source": [
    "data_time = data.groupby(['자치구', '시간대구분'])[['총생활인구수', '10세미만생활인구']].mean().reset_index()"
   ]
  },
  {
   "cell_type": "code",
   "execution_count": 96,
   "id": "27716c61-7063-4c79-a695-aeae13a8dbb5",
   "metadata": {},
   "outputs": [],
   "source": [
    "관악구 = data_time[data_time['자치구'] == '관악구']"
   ]
  },
  {
   "cell_type": "code",
   "execution_count": 99,
   "id": "e78331cc-c1ea-4a31-a845-b927bf2b531d",
   "metadata": {},
   "outputs": [
    {
     "data": {
      "image/png": "[encoded data removed]",
      "text/plain": [
       "<Figure size 1080x432 with 2 Axes>"
      ]
     },
     "metadata": {
      "needs_background": "light"
     },
     "output_type": "display_data"
    }
   ],
   "source": [
    "fig, axes = plt.subplots(1, 2)\n",
    "fig.set_size_inches(15, 6)\n",
    "g = sns.lineplot(x='시간대구분', y='총생활인구수', data=관악구, marker='o', ax = axes[0])\n",
    "h = sns.lineplot(x='시간대구분', y='10세미만생활인구', data=관악구, marker='o', ax = axes[1])\n",
    "g.set_xticks(range(24))\n",
    "h.set_xticks(range(24))\n",
    "axes[0].set_title('총생활인구수')\n",
    "axes[1].set_title('10세미만생활인구')\n",
    "plt.savefig('./result/관악구 시간대별 생활인구.png')\n",
    "plt.show()"
   ]
  },
  {
   "cell_type": "code",
   "execution_count": null,
   "id": "e4f5a112-814c-40c5-93ff-e380b203d978",
   "metadata": {},
   "outputs": [],
   "source": []
  }
 ],
 "metadata": {
  "kernelspec": {
   "display_name": "pydatavenv",
   "language": "python",
   "name": "pydatavenv"
  },
  "language_info": {
   "codemirror_mode": {
    "name": "ipython",
    "version": 3
   },
   "file_extension": ".py",
   "mimetype": "text/x-python",
   "name": "python",
   "nbconvert_exporter": "python",
   "pygments_lexer": "ipython3",
   "version": "3.8.11"
  }
 },
 "nbformat": 4,
 "nbformat_minor": 5
}
