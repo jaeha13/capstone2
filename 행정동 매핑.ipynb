{
 "cells": [
  {
   "cell_type": "code",
   "execution_count": 2,
   "id": "dc041da5-5772-4b12-b2b1-9315a17b128f",
   "metadata": {},
   "outputs": [
    {
     "name": "stderr",
     "output_type": "stream",
     "text": [
      "C:\\Users\\hajae\\anaconda3\\envs\\pydatavenv\\lib\\site-packages\\numpy\\_distributor_init.py:30: UserWarning: loaded more than 1 DLL from .libs:\n",
      "C:\\Users\\hajae\\anaconda3\\envs\\pydatavenv\\lib\\site-packages\\numpy\\.libs\\libopenblas.WCDJNK7YVMPZQ2ME2ZZHJJRJ3JIKNDB7.gfortran-win_amd64.dll\n",
      "C:\\Users\\hajae\\anaconda3\\envs\\pydatavenv\\lib\\site-packages\\numpy\\.libs\\libopenblas.XWYDX2IKJW2NMTWSFYNGFUWKQU3LYTCZ.gfortran-win_amd64.dll\n",
      "  warnings.warn(\"loaded more than 1 DLL from .libs:\"\n"
     ]
    }
   ],
   "source": [
    "import pickle\n",
    "import pandas as pd"
   ]
  },
  {
   "cell_type": "code",
   "execution_count": 3,
   "id": "5e312a49-7376-464f-af0f-16c44975745f",
   "metadata": {},
   "outputs": [],
   "source": [
    "df = pd.read_excel('./data_missing/행정동코드_매핑정보_2018 (1).xlsx', engine='openpyxl')"
   ]
  },
  {
   "cell_type": "code",
   "execution_count": 5,
   "id": "e9f960b2-a154-4cf0-b4d2-0258226f150d",
   "metadata": {},
   "outputs": [],
   "source": [
    "df = df.iloc[:, [1, 4]]"
   ]
  },
  {
   "cell_type": "code",
   "execution_count": 8,
   "id": "43f0aea9-6806-4347-a1ff-8ffe3481811b",
   "metadata": {},
   "outputs": [
    {
     "name": "stderr",
     "output_type": "stream",
     "text": [
      "C:\\Users\\hajae\\anaconda3\\envs\\pydatavenv\\lib\\site-packages\\pandas\\core\\frame.py:4906: SettingWithCopyWarning: \n",
      "A value is trying to be set on a copy of a slice from a DataFrame\n",
      "\n",
      "See the caveats in the documentation: https://pandas.pydata.org/pandas-docs/stable/user_guide/indexing.html#returning-a-view-versus-a-copy\n",
      "  return super().drop(\n"
     ]
    }
   ],
   "source": [
    "df.drop([0], axis=0, inplace=True)"
   ]
  },
  {
   "cell_type": "code",
   "execution_count": 12,
   "id": "4dbe18c8-b8a7-446b-bccb-f6a1bb5daef8",
   "metadata": {},
   "outputs": [],
   "source": [
    "mapping = dict()\n",
    "for x, y in zip(df[df.columns[0]], df[df.columns[1]]):\n",
    "    mapping[x] = y"
   ]
  },
  {
   "cell_type": "code",
   "execution_count": 14,
   "id": "f0c50bc5-c028-4e24-adb6-89446704a1be",
   "metadata": {},
   "outputs": [],
   "source": [
    "with open('./result/mapping.pkl', 'wb') as f:\n",
    "    pickle.dump(mapping, f)"
   ]
  },
  {
   "cell_type": "code",
   "execution_count": null,
   "id": "53a40483-3493-47f8-ad88-63045a0a7fa4",
   "metadata": {},
   "outputs": [],
   "source": []
  }
 ],
 "metadata": {
  "kernelspec": {
   "display_name": "pydatavenv",
   "language": "python",
   "name": "pydatavenv"
  },
  "language_info": {
   "codemirror_mode": {
    "name": "ipython",
    "version": 3
   },
   "file_extension": ".py",
   "mimetype": "text/x-python",
   "name": "python",
   "nbconvert_exporter": "python",
   "pygments_lexer": "ipython3",
   "version": "3.8.11"
  }
 },
 "nbformat": 4,
 "nbformat_minor": 5
}
